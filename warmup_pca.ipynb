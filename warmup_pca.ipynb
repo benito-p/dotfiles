{
  "cells": [
    {
      "cell_type": "markdown",
      "metadata": {
        "id": "view-in-github",
        "colab_type": "text"
      },
      "source": [
        "<a href=\"https://colab.research.google.com/github/benito-p/dotfiles/blob/master/warmup_pca.ipynb\" target=\"_parent\"><img src=\"https://colab.research.google.com/assets/colab-badge.svg\" alt=\"Open In Colab\"/></a>"
      ]
    },
    {
      "cell_type": "code",
      "execution_count": null,
      "metadata": {
        "id": "e80A5OvobgJn"
      },
      "outputs": [],
      "source": [
        "import numpy as np\n",
        "import pandas as pd\n",
        "import matplotlib.pyplot as plt\n",
        "\n",
        "from sklearn.decomposition import PCA\n",
        "\n"
      ]
    },
    {
      "cell_type": "markdown",
      "metadata": {
        "id": "PtiTjEnMbgJo"
      },
      "source": [
        "# Principal Component Analysis"
      ]
    },
    {
      "cell_type": "markdown",
      "metadata": {
        "id": "jbkYeV_sbgJp"
      },
      "source": [
        "This warm-up challenge will help you gain intuition about how a **Principal Component Analysis** works.  "
      ]
    },
    {
      "cell_type": "markdown",
      "metadata": {
        "id": "YGJXmYAmbgJp"
      },
      "source": [
        "## (1) Generate Data"
      ]
    },
    {
      "cell_type": "markdown",
      "metadata": {
        "id": "pCvsEOLHbgJq"
      },
      "source": [
        "We want a dataset with **100 observations** and **2 correlated features**\n",
        "\n",
        "👇 Run the cell below to generate your data  \n",
        "💡 Notice the (high) correlation between your two features."
      ]
    },
    {
      "cell_type": "code",
      "execution_count": null,
      "metadata": {
        "colab": {
          "base_uri": "https://localhost:8080/",
          "height": 112
        },
        "id": "NrTB03VobgJq",
        "outputId": "e1063ffd-ea51-4876-d982-5b353a16582c"
      },
      "outputs": [
        {
          "output_type": "execute_result",
          "data": {
            "text/plain": [
              "      0     1\n",
              "0  1.00  0.77\n",
              "1  0.77  1.00"
            ],
            "text/html": [
              "\n",
              "  <div id=\"df-050cee49-59f2-40e8-90bd-2ee3956bd9bd\">\n",
              "    <div class=\"colab-df-container\">\n",
              "      <div>\n",
              "<style scoped>\n",
              "    .dataframe tbody tr th:only-of-type {\n",
              "        vertical-align: middle;\n",
              "    }\n",
              "\n",
              "    .dataframe tbody tr th {\n",
              "        vertical-align: top;\n",
              "    }\n",
              "\n",
              "    .dataframe thead th {\n",
              "        text-align: right;\n",
              "    }\n",
              "</style>\n",
              "<table border=\"1\" class=\"dataframe\">\n",
              "  <thead>\n",
              "    <tr style=\"text-align: right;\">\n",
              "      <th></th>\n",
              "      <th>0</th>\n",
              "      <th>1</th>\n",
              "    </tr>\n",
              "  </thead>\n",
              "  <tbody>\n",
              "    <tr>\n",
              "      <th>0</th>\n",
              "      <td>1.00</td>\n",
              "      <td>0.77</td>\n",
              "    </tr>\n",
              "    <tr>\n",
              "      <th>1</th>\n",
              "      <td>0.77</td>\n",
              "      <td>1.00</td>\n",
              "    </tr>\n",
              "  </tbody>\n",
              "</table>\n",
              "</div>\n",
              "      <button class=\"colab-df-convert\" onclick=\"convertToInteractive('df-050cee49-59f2-40e8-90bd-2ee3956bd9bd')\"\n",
              "              title=\"Convert this dataframe to an interactive table.\"\n",
              "              style=\"display:none;\">\n",
              "        \n",
              "  <svg xmlns=\"http://www.w3.org/2000/svg\" height=\"24px\"viewBox=\"0 0 24 24\"\n",
              "       width=\"24px\">\n",
              "    <path d=\"M0 0h24v24H0V0z\" fill=\"none\"/>\n",
              "    <path d=\"M18.56 5.44l.94 2.06.94-2.06 2.06-.94-2.06-.94-.94-2.06-.94 2.06-2.06.94zm-11 1L8.5 8.5l.94-2.06 2.06-.94-2.06-.94L8.5 2.5l-.94 2.06-2.06.94zm10 10l.94 2.06.94-2.06 2.06-.94-2.06-.94-.94-2.06-.94 2.06-2.06.94z\"/><path d=\"M17.41 7.96l-1.37-1.37c-.4-.4-.92-.59-1.43-.59-.52 0-1.04.2-1.43.59L10.3 9.45l-7.72 7.72c-.78.78-.78 2.05 0 2.83L4 21.41c.39.39.9.59 1.41.59.51 0 1.02-.2 1.41-.59l7.78-7.78 2.81-2.81c.8-.78.8-2.07 0-2.86zM5.41 20L4 18.59l7.72-7.72 1.47 1.35L5.41 20z\"/>\n",
              "  </svg>\n",
              "      </button>\n",
              "      \n",
              "  <style>\n",
              "    .colab-df-container {\n",
              "      display:flex;\n",
              "      flex-wrap:wrap;\n",
              "      gap: 12px;\n",
              "    }\n",
              "\n",
              "    .colab-df-convert {\n",
              "      background-color: #E8F0FE;\n",
              "      border: none;\n",
              "      border-radius: 50%;\n",
              "      cursor: pointer;\n",
              "      display: none;\n",
              "      fill: #1967D2;\n",
              "      height: 32px;\n",
              "      padding: 0 0 0 0;\n",
              "      width: 32px;\n",
              "    }\n",
              "\n",
              "    .colab-df-convert:hover {\n",
              "      background-color: #E2EBFA;\n",
              "      box-shadow: 0px 1px 2px rgba(60, 64, 67, 0.3), 0px 1px 3px 1px rgba(60, 64, 67, 0.15);\n",
              "      fill: #174EA6;\n",
              "    }\n",
              "\n",
              "    [theme=dark] .colab-df-convert {\n",
              "      background-color: #3B4455;\n",
              "      fill: #D2E3FC;\n",
              "    }\n",
              "\n",
              "    [theme=dark] .colab-df-convert:hover {\n",
              "      background-color: #434B5C;\n",
              "      box-shadow: 0px 1px 3px 1px rgba(0, 0, 0, 0.15);\n",
              "      filter: drop-shadow(0px 1px 2px rgba(0, 0, 0, 0.3));\n",
              "      fill: #FFFFFF;\n",
              "    }\n",
              "  </style>\n",
              "\n",
              "      <script>\n",
              "        const buttonEl =\n",
              "          document.querySelector('#df-050cee49-59f2-40e8-90bd-2ee3956bd9bd button.colab-df-convert');\n",
              "        buttonEl.style.display =\n",
              "          google.colab.kernel.accessAllowed ? 'block' : 'none';\n",
              "\n",
              "        async function convertToInteractive(key) {\n",
              "          const element = document.querySelector('#df-050cee49-59f2-40e8-90bd-2ee3956bd9bd');\n",
              "          const dataTable =\n",
              "            await google.colab.kernel.invokeFunction('convertToInteractive',\n",
              "                                                     [key], {});\n",
              "          if (!dataTable) return;\n",
              "\n",
              "          const docLinkHtml = 'Like what you see? Visit the ' +\n",
              "            '<a target=\"_blank\" href=https://colab.research.google.com/notebooks/data_table.ipynb>data table notebook</a>'\n",
              "            + ' to learn more about interactive tables.';\n",
              "          element.innerHTML = '';\n",
              "          dataTable['output_type'] = 'display_data';\n",
              "          await google.colab.output.renderOutput(dataTable, element);\n",
              "          const docLink = document.createElement('div');\n",
              "          docLink.innerHTML = docLinkHtml;\n",
              "          element.appendChild(docLink);\n",
              "        }\n",
              "      </script>\n",
              "    </div>\n",
              "  </div>\n",
              "  "
            ]
          },
          "metadata": {},
          "execution_count": 2
        }
      ],
      "source": [
        "\n",
        "\n",
        "# Generate a dataset with 100 observations and 2 correlated features.\n",
        "seed = np.random.RandomState(42)\n",
        "feature_1 = seed.normal(5, 1, 100)\n",
        "feature_2 = .7 * feature_1 + seed.normal(0, .5, 100)\n",
        "X = np.array([feature_1, feature_2]).T\n",
        "X = pd.DataFrame(X)\n",
        "\n",
        "X.corr().round(3)"
      ]
    },
    {
      "cell_type": "markdown",
      "metadata": {
        "id": "Mh6GtatRbgJr"
      },
      "source": [
        "❓ Draw a scatter plot of your two features against each other"
      ]
    },
    {
      "cell_type": "code",
      "execution_count": null,
      "metadata": {
        "tags": [
          "challengify"
        ],
        "colab": {
          "base_uri": "https://localhost:8080/",
          "height": 265
        },
        "id": "4DA66U8PbgJr",
        "outputId": "fdf21258-4ae9-4a11-bb1e-0e7e32b65abd"
      },
      "outputs": [
        {
          "output_type": "display_data",
          "data": {
            "text/plain": [
              "<Figure size 432x288 with 1 Axes>"
            ],
            "image/png": "[encoded data removed]"
          },
          "metadata": {
            "needs_background": "light"
          }
        }
      ],
      "source": [
        "plt.scatter(feature_1,feature_2,  edgecolor='k')\n",
        "plt.show()"
      ]
    },
    {
      "cell_type": "markdown",
      "metadata": {
        "id": "AGqKcYr_bgJr"
      },
      "source": [
        "☝️ You can identify the positive correlation between the features  \n",
        "\n",
        "Our observations are packed along a single line, it is not easy to spot differences between them\n",
        "\n",
        "💡 PCA will help us find the directions (the so-called \"principal components\") that cancel out this correlation."
      ]
    },
    {
      "cell_type": "markdown",
      "metadata": {
        "id": "ImNFgDQ_bgJr"
      },
      "source": [
        "## (2) Principal Components"
      ]
    },
    {
      "cell_type": "markdown",
      "metadata": {
        "id": "BFtQCSxIbgJs"
      },
      "source": [
        "👉 Import `PCA` from `sklearn` and instantiate a model with `n_components=2`\n",
        "\n",
        "❓Fit it on your `X`, and assign it to `pca`"
      ]
    },
    {
      "cell_type": "code",
      "execution_count": null,
      "metadata": {
        "tags": [
          "challengify"
        ],
        "id": "SBL44cDBbgJs"
      },
      "outputs": [],
      "source": [
        "pca = PCA(n_components=2).fit(X)"
      ]
    },
    {
      "cell_type": "markdown",
      "metadata": {
        "id": "w5xul_rSbgJs"
      },
      "source": [
        "Let's focus on two objects in that `PCA`: \n",
        "\n",
        "* `pca.components_`: it's a set of eigenvectors which point to the directions where the variance is maximally explained: the **directions of maximum variance**.\n",
        "\n",
        "* `pca.explained_variance_`:  $Var(Principal  Component)$, given by the corresponding L2 norm of these eigenvectors.\n",
        "\n",
        "    * `pca.explained_variance_ratio_`:  $ = \\frac{Var(Principal\\; Component)}{\\sum Var(Principal\\; Component)}$"
      ]
    },
    {
      "cell_type": "code",
      "execution_count": null,
      "metadata": {
        "colab": {
          "base_uri": "https://localhost:8080/"
        },
        "id": "5cMOjjsebgJs",
        "outputId": "1f48883e-bec1-4097-9e50-3c87cb6b97b5"
      },
      "outputs": [
        {
          "output_type": "execute_result",
          "data": {
            "text/plain": [
              "array([[-0.79286897, -0.60939216],\n",
              "       [-0.60939216,  0.79286897]])"
            ]
          },
          "metadata": {},
          "execution_count": 5
        }
      ],
      "source": [
        "# Vector coordinates of each Principal Component\n",
        "pca.components_"
      ]
    },
    {
      "cell_type": "code",
      "execution_count": null,
      "metadata": {
        "colab": {
          "base_uri": "https://localhost:8080/"
        },
        "id": "MnJxbMmwbgJs",
        "outputId": "d5698e9d-2d33-41cb-a88e-8849e0308965"
      },
      "outputs": [
        {
          "output_type": "execute_result",
          "data": {
            "text/plain": [
              "array([1.2231014 , 0.15046893])"
            ]
          },
          "metadata": {},
          "execution_count": 6
        }
      ],
      "source": [
        "# Explained Variance for each Principal Component\n",
        "# Ranked by decreasing order of importance\n",
        "pca.explained_variance_"
      ]
    },
    {
      "cell_type": "code",
      "execution_count": null,
      "metadata": {
        "colab": {
          "base_uri": "https://localhost:8080/"
        },
        "id": "EFUVGxSpbgJt",
        "outputId": "77d5b8b3-3d8c-450e-f3d0-bec1be4767bb"
      },
      "outputs": [
        {
          "output_type": "execute_result",
          "data": {
            "text/plain": [
              "array([0.89045415, 0.10954585])"
            ]
          },
          "metadata": {},
          "execution_count": 7
        }
      ],
      "source": [
        "# Explained Variance Ratio for each Principal Component\n",
        "# Ranked by decreasing order of importance\n",
        "\n",
        "# It is exactly the explained variance for each component...\n",
        "# ... divided by the sum of explained variances !\n",
        "pca.explained_variance_ratio_"
      ]
    },
    {
      "cell_type": "markdown",
      "metadata": {
        "id": "Pxa5yLNybgJt"
      },
      "source": [
        "👇 Run the cell below to visualize your two Principal Components"
      ]
    },
    {
      "cell_type": "code",
      "execution_count": null,
      "metadata": {
        "colab": {
          "base_uri": "https://localhost:8080/",
          "height": 320
        },
        "id": "rWp5YtMwbgJt",
        "outputId": "e8678cf9-02f4-449d-feae-a54ad91e5890"
      },
      "outputs": [
        {
          "output_type": "display_data",
          "data": {
            "text/plain": [
              "<Figure size 360x360 with 1 Axes>"
            ],
            "image/png": "[encoded data removed]"
          },
          "metadata": {
            "needs_background": "light"
          }
        }
      ],
      "source": [
        "plt.figure(figsize=(5,5))\n",
        "\n",
        "plt.scatter(X[0], X[1])\n",
        "\n",
        "for (length, vector) in zip(pca.explained_variance_, pca.components_):\n",
        "    v = vector * np.sqrt(length) # Square root of their lenghts to compare same \"units\"\n",
        "    plt.quiver(*X.mean(axis=0), *v, units='xy', scale=1, color='r')"
      ]
    },
    {
      "cell_type": "markdown",
      "metadata": {
        "id": "0osr4CdFbgJt"
      },
      "source": [
        "💡 The length of the vector is a measure of the standard deviation of the dataset when projected onto this axis!\n",
        "\n",
        "💡 We can then use those directions (these \"principal components\") to \"explain\" most of our observations behavior - most of the distinction between observations happens along these axis. "
      ]
    },
    {
      "cell_type": "markdown",
      "metadata": {
        "id": "FiEd3AEMbgJt"
      },
      "source": [
        "## (3) Apply PCA"
      ]
    },
    {
      "cell_type": "markdown",
      "metadata": {
        "id": "Gsb8C2QPbgJt"
      },
      "source": [
        "We can use these components to project every sample of our dataset onto the directions of maximum variance.\n",
        "\n",
        "❓ ***Questions*** ❓\n",
        "\n",
        "1. Use the `transform` method of your `pca` on `X` and store the result in `X_transformed`  \n",
        "2. Plot your projected features in `X_transformed`against one another.  \n",
        "3.  Compute the correlation between your transformed features in `X_transformed`"
      ]
    },
    {
      "cell_type": "code",
      "execution_count": null,
      "metadata": {
        "tags": [
          "challengify"
        ],
        "colab": {
          "base_uri": "https://localhost:8080/"
        },
        "id": "I_NC8wwbbgJt",
        "outputId": "0149ec38-321d-44bd-d174-96ca1dd827ad"
      },
      "outputs": [
        {
          "output_type": "execute_result",
          "data": {
            "text/plain": [
              "array([[-2.94295757e-01, -6.02604896e-01],\n",
              "       [ 1.76935642e-01, -1.73728846e-01],\n",
              "       [-8.05234632e-01, -1.85577552e-01],\n",
              "       [-1.73263692e+00, -4.15368532e-01],\n",
              "       [ 2.14841091e-01, -6.56949328e-02],\n",
              "       [ 4.25652353e-02,  1.58423085e-01],\n",
              "       [-2.62031305e+00,  6.47375529e-01],\n",
              "       [-1.10887529e+00,  1.29827029e-02],\n",
              "       [ 3.74184045e-01,  1.13143811e-01],\n",
              "       [-7.58776765e-01, -7.35093324e-02],\n",
              "       [ 1.02991491e+00, -7.49954508e-01],\n",
              "       [ 4.56170946e-01,  3.27292504e-04],\n",
              "       [-4.33250061e-01, -3.77139894e-03],\n",
              "       [ 1.46275806e+00,  1.06607583e+00],\n",
              "       [ 2.04221259e+00,  3.05932062e-03],\n",
              "       [ 4.73958729e-01,  1.35633258e-01],\n",
              "       [ 1.12582801e+00,  2.68308596e-02],\n",
              "       [-1.46954083e-01, -4.94884147e-01],\n",
              "       [ 6.39231568e-01,  4.87946361e-01],\n",
              "       [ 1.37327465e+00,  3.60408854e-01],\n",
              "       [-2.14813900e+00,  2.19394791e-01],\n",
              "       [ 4.32569390e-01, -3.62723839e-01],\n",
              "       [-6.29611592e-01,  5.37953708e-01],\n",
              "       [ 2.04469957e+00, -4.92748652e-01],\n",
              "       [ 3.65192069e-01,  2.47766150e-01],\n",
              "       [-9.22525906e-01,  8.47849860e-01],\n",
              "       [ 1.58554531e+00, -3.44577144e-01],\n",
              "       [-4.05432638e-01, -2.59421748e-01],\n",
              "       [ 5.82242714e-01,  5.76804159e-02],\n",
              "       [ 3.89272260e-01, -1.98221557e-01],\n",
              "       [ 1.08638943e+00, -5.96503200e-01],\n",
              "       [-2.39947826e+00, -8.80432309e-02],\n",
              "       [ 2.20300040e-01, -4.34889677e-01],\n",
              "       [ 1.02567810e+00,  2.30780911e-01],\n",
              "       [-8.42740907e-01, -4.23714539e-01],\n",
              "       [ 8.96652052e-01,  6.66351776e-01],\n",
              "       [-1.35881980e-01, -3.36357311e-01],\n",
              "       [ 2.36799899e+00, -3.55917101e-02],\n",
              "       [ 1.25193347e+00,  3.80248305e-01],\n",
              "       [ 1.51395424e-02, -5.13153021e-01],\n",
              "       [-1.08966324e+00,  3.55223999e-02],\n",
              "       [-7.27094042e-01,  4.94386907e-01],\n",
              "       [ 5.10981543e-01, -6.45462268e-01],\n",
              "       [ 1.91082887e-01,  7.50805316e-02],\n",
              "       [ 1.60394989e+00,  1.68944380e-01],\n",
              "       [ 5.19752123e-01,  3.34599583e-01],\n",
              "       [ 8.18778137e-01, -4.79808477e-01],\n",
              "       [-1.00660169e+00, -5.95454828e-01],\n",
              "       [-6.97895468e-01,  1.73738455e-01],\n",
              "       [ 1.93959891e+00,  1.99126046e-01],\n",
              "       [-5.91365110e-01,  6.71891761e-02],\n",
              "       [ 2.44185826e-01,  1.43796402e-01],\n",
              "       [ 9.12830146e-01, -2.47261488e-01],\n",
              "       [-9.36510289e-01,  4.43181606e-02],\n",
              "       [-1.46638251e+00,  4.56243964e-02],\n",
              "       [-1.03782223e+00, -3.48330046e-01],\n",
              "       [ 3.35045320e-01,  7.70807376e-01],\n",
              "       [ 1.12853144e-01,  1.90169994e-01],\n",
              "       [-1.60810365e-01, -5.04779061e-01],\n",
              "       [-1.50951029e+00,  1.92736678e-01],\n",
              "       [ 7.61468743e-01, -3.74827954e-01],\n",
              "       [-1.33259802e-01,  3.07634450e-01],\n",
              "       [ 8.76254600e-01,  5.04984144e-01],\n",
              "       [ 1.58892621e+00, -2.74782298e-01],\n",
              "       [-1.40420508e+00,  3.23237328e-01],\n",
              "       [-1.89946962e+00,  7.53931147e-02],\n",
              "       [-2.82505072e-01,  3.15319301e-01],\n",
              "       [-1.92153587e+00,  6.82888250e-01],\n",
              "       [-4.86064733e-01, -1.31437365e-01],\n",
              "       [ 8.96508692e-01, -2.78212776e-01],\n",
              "       [-2.89508793e-01, -3.86778173e-01],\n",
              "       [-1.74681330e+00, -4.21549609e-01],\n",
              "       [-5.26584198e-02, -4.31073013e-02],\n",
              "       [-2.13178101e+00,  3.56631302e-02],\n",
              "       [ 2.99048564e+00,  2.37671793e-01],\n",
              "       [-1.37414198e+00,  2.68735833e-01],\n",
              "       [-2.29949443e-01, -1.40694430e-02],\n",
              "       [-1.98102408e-01,  5.78002327e-01],\n",
              "       [-1.51096019e-01, -1.24399286e-01],\n",
              "       [ 1.47506423e+00,  1.17197068e+00],\n",
              "       [-4.25997746e-02,  2.45492837e-01],\n",
              "       [-2.94144888e-01, -3.73717864e-01],\n",
              "       [-1.59575035e+00, -5.19402211e-01],\n",
              "       [ 3.65154946e-01,  2.04964364e-01],\n",
              "       [ 9.34161647e-01, -5.91092188e-02],\n",
              "       [ 2.74472365e-01,  2.95852028e-01],\n",
              "       [-1.38031363e+00,  1.23334710e-01],\n",
              "       [-4.98541550e-01, -6.12405372e-02],\n",
              "       [ 7.84188512e-01, -3.21377699e-01],\n",
              "       [-2.84171452e-01, -6.42941036e-01],\n",
              "       [-1.02168067e-01, -1.96783262e-01],\n",
              "       [-1.56198801e+00,  2.72337457e-01],\n",
              "       [ 6.71041704e-01,  1.08564630e-01],\n",
              "       [ 6.59298350e-01, -4.90524155e-01],\n",
              "       [ 3.05547343e-01,  7.54893696e-02],\n",
              "       [ 1.54743022e+00,  2.17854834e-01],\n",
              "       [-2.11632884e-01, -3.80985620e-01],\n",
              "       [-4.85020424e-01,  3.22548504e-02],\n",
              "       [-1.43810378e-01,  8.30796964e-03],\n",
              "       [ 5.14485479e-01, -4.54844965e-01]])"
            ]
          },
          "metadata": {},
          "execution_count": 9
        }
      ],
      "source": [
        "X_transformed = pca.transform(X)\n",
        "X_transformed"
      ]
    },
    {
      "cell_type": "code",
      "execution_count": null,
      "metadata": {
        "tags": [
          "challengify"
        ],
        "colab": {
          "base_uri": "https://localhost:8080/",
          "height": 320
        },
        "id": "-p4qoXnrbgJu",
        "outputId": "51ade522-e651-4615-bd4b-0ab6457eb36b"
      },
      "outputs": [
        {
          "output_type": "display_data",
          "data": {
            "text/plain": [
              "<Figure size 360x360 with 1 Axes>"
            ],
            "image/png": "[encoded data removed]"
          },
          "metadata": {
            "needs_background": "light"
          }
        }
      ],
      "source": [
        "plt.figure(figsize=(5,5))\n",
        "\n",
        "plt.scatter(X_transformed[0], X_transformed[1])\n",
        "\n",
        "for (length, vector) in zip(pca.explained_variance_, pca.components_):\n",
        "    v = vector * np.sqrt(length) # Square root of their lenghts to compare same \"units\"\n",
        "    plt.quiver(*X_transformed.mean(axis=0), *v, units='xy', scale=1, color='r')"
      ]
    },
    {
      "cell_type": "code",
      "execution_count": null,
      "metadata": {
        "tags": [
          "challengify"
        ],
        "colab": {
          "base_uri": "https://localhost:8080/",
          "height": 131
        },
        "id": "L2LRiR8sbgJu",
        "outputId": "e7ea102c-c2dd-40e9-edcd-e9f8dc372ba1"
      },
      "outputs": [
        {
          "output_type": "error",
          "ename": "SyntaxError",
          "evalue": "ignored",
          "traceback": [
            "\u001b[0;36m  File \u001b[0;32m\"<ipython-input-15-7e2fe60eb4b5>\"\u001b[0;36m, line \u001b[0;32m1\u001b[0m\n\u001b[0;31m    git add -a\u001b[0m\n\u001b[0m        ^\u001b[0m\n\u001b[0;31mSyntaxError\u001b[0m\u001b[0;31m:\u001b[0m invalid syntax\n"
          ]
        }
      ],
      "source": [
        "git add -a\n",
        "\n",
        "git commit -m 'warmup'\n",
        "\n",
        "git push origin master"
      ]
    },
    {
      "cell_type": "markdown",
      "metadata": {
        "id": "sdfpp01tbgJu"
      },
      "source": [
        "☝️ There is no correlation at all between your transformed features.  \n",
        "\n",
        "This makes it easier to study the behaviour between observations since they are no longer packed along a single line."
      ]
    },
    {
      "cell_type": "markdown",
      "metadata": {
        "id": "kMw5zQpCbgJu"
      },
      "source": [
        "🏁 **Don't forget to push your notebook.**  \n",
        "\n",
        "Proceed with the challenges of the day and come back here if you have time 😉"
      ]
    },
    {
      "cell_type": "markdown",
      "metadata": {
        "id": "ngUHxPAHbgJu"
      },
      "source": [
        "## (Optional) With a little help from Scaling"
      ]
    },
    {
      "cell_type": "markdown",
      "metadata": {
        "id": "H7KJI-YybgJu"
      },
      "source": [
        "Remember that the `projections` obtained with the `PCA` is nothing more than the dot product of your initial `X` and your transposed components.  \n",
        "\n",
        "👉 Compute your projected values manually by performing the dot product: $X.PC^T$.  \n",
        "\n",
        "❓ Use `np.allclose`, to check that your `X_transformed` is equal to your dot product $X.PC^T$."
      ]
    },
    {
      "cell_type": "code",
      "execution_count": null,
      "metadata": {
        "tags": [
          "challengify"
        ],
        "id": "jUqpWWEfbgJu"
      },
      "outputs": [],
      "source": [
        "# YOUR CODE HERE"
      ]
    },
    {
      "cell_type": "markdown",
      "metadata": {
        "id": "AdkpNfUUbgJu"
      },
      "source": [
        "It's not equal 😱  \n",
        "\n",
        "When the `PCA` of `sklearn` applies the reduction, it does so on a `X` that is, *centered*, but not *scaled*.\n",
        "\n",
        "This means that `PCA().transform(X)` is actually equivalent to `np.dot(X - X.mean(axis=0), PC)`"
      ]
    },
    {
      "cell_type": "code",
      "execution_count": null,
      "metadata": {
        "id": "nDI1s9tYbgJv"
      },
      "outputs": [],
      "source": [
        "np.allclose(X_transformed, np.dot(X - X.mean(axis=0), PC))"
      ]
    },
    {
      "cell_type": "markdown",
      "metadata": {
        "id": "M8GVmGg4bgJv"
      },
      "source": [
        "That is why when using a `PCA` we often recommend to scale, more precisely standardize, your data first so that they are already centered.\n",
        "\n",
        "This way, using `PCA` or dot product will be equivalent"
      ]
    }
  ],
  "metadata": {
    "kernelspec": {
      "display_name": "Python 3 (ipykernel)",
      "language": "python",
      "name": "python3"
    },
    "language_info": {
      "codemirror_mode": {
        "name": "ipython",
        "version": 3
      },
      "file_extension": ".py",
      "mimetype": "text/x-python",
      "name": "python",
      "nbconvert_exporter": "python",
      "pygments_lexer": "ipython3",
      "version": "3.10.6"
    },
    "toc": {
      "base_numbering": 1,
      "nav_menu": {},
      "number_sections": true,
      "sideBar": true,
      "skip_h1_title": false,
      "title_cell": "Table of Contents",
      "title_sidebar": "Contents",
      "toc_cell": false,
      "toc_position": {},
      "toc_section_display": true,
      "toc_window_display": true
    },
    "colab": {
      "provenance": [],
      "include_colab_link": true
    }
  },
  "nbformat": 4,
  "nbformat_minor": 0
}